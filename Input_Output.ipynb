{
  "nbformat": 4,
  "nbformat_minor": 0,
  "metadata": {
    "colab": {
      "provenance": [],
      "authorship_tag": "ABX9TyPEx2XIauJSFWVcoIiM5j3I",
      "include_colab_link": true
    },
    "kernelspec": {
      "name": "python3",
      "display_name": "Python 3"
    },
    "language_info": {
      "name": "python"
    }
  },
  "cells": [
    {
      "cell_type": "markdown",
      "metadata": {
        "id": "view-in-github",
        "colab_type": "text"
      },
      "source": [
        "<a href=\"https://colab.research.google.com/github/AshmithaMB/input-output-/blob/main/Input_Output.ipynb\" target=\"_parent\"><img src=\"https://colab.research.google.com/assets/colab-badge.svg\" alt=\"Open In Colab\"/></a>"
      ]
    },
    {
      "cell_type": "markdown",
      "source": [
        "Write a code to get the input in the given format and print the output in the given format\n",
        "\n",
        "Input Description:\n",
        "To take an integer value\n",
        "\n",
        "Output Description:\n",
        "Print the integer value\n",
        "\n",
        "Sample Input :\n",
        "2\n",
        "Sample Output :\n",
        "2\n"
      ],
      "metadata": {
        "id": "wUmVMr_QvTuD"
      }
    },
    {
      "cell_type": "code",
      "execution_count": null,
      "metadata": {
        "colab": {
          "base_uri": "https://localhost:8080/"
        },
        "id": "Ym3qdqgWvI6z",
        "outputId": "7465f8d8-d965-495b-940e-3b4b72b675f4"
      },
      "outputs": [
        {
          "output_type": "stream",
          "name": "stdout",
          "text": [
            "2\n",
            "2\n"
          ]
        }
      ],
      "source": [
        "n = int(input())\n",
        "print(n)"
      ]
    },
    {
      "cell_type": "markdown",
      "source": [
        "Write a code to get the input in the given format and print the output in the given format\n",
        "\n",
        "Input Description:\n",
        "A single line contains integers separated by space\n",
        "\n",
        "Output Description:\n",
        "Print the integer list of integers separated by space\n",
        "\n",
        "Sample Input :\n",
        "2 3 4 5 6 7 8\n",
        "Sample Output :\n",
        "2 3 4 5 6 7 8"
      ],
      "metadata": {
        "id": "i1lIPmwKvep1"
      }
    },
    {
      "cell_type": "code",
      "source": [
        "user_input = list(map(int,input('Enter an input : ').split(' ')))\n",
        "print(*user_input)"
      ],
      "metadata": {
        "colab": {
          "base_uri": "https://localhost:8080/"
        },
        "id": "jpREl7ZqxLQ6",
        "outputId": "c7c870e3-e71f-4dc8-c74e-736ea4dca460"
      },
      "execution_count": null,
      "outputs": [
        {
          "output_type": "stream",
          "name": "stdout",
          "text": [
            "1 2 3 4 5\n",
            "1 2 3 4 5\n"
          ]
        }
      ]
    },
    {
      "cell_type": "markdown",
      "source": [
        "Write a code to get the input in the given format and print the output in the given format.\n",
        "\n",
        "Input Description:\n",
        "First-line indicates two integers which are the size of array and 'K' value. Second-line indicates an integer contains elements of an array.\n",
        "\n",
        "Output Description:\n",
        "Print the taken input in the same format.\n",
        "\n",
        "Sample Input :\n",
        "5 3\n",
        "1 2 3 4 5\n",
        "Sample Output :\n",
        "5 3\n",
        "1 2 3 4 5"
      ],
      "metadata": {
        "id": "9Myl-V-AwZdt"
      }
    },
    {
      "cell_type": "code",
      "source": [
        "userinput = list(map(int, input('Enter 2 integers ; ').split(' ', 1)))\n",
        "array = list(map(int, input('Enter an array ; ').split()))\n",
        "print(*userinput)\n",
        "print(*array)"
      ],
      "metadata": {
        "colab": {
          "base_uri": "https://localhost:8080/"
        },
        "id": "9MoYumjo16O9",
        "outputId": "d7302584-de7a-41e2-f0a0-61fe2580d362"
      },
      "execution_count": null,
      "outputs": [
        {
          "output_type": "stream",
          "name": "stdout",
          "text": [
            "Enter 2 integers ; 1 2 3\n",
            "Enter an array ; 1 2 3 4 5\n",
            "1 2 3\n",
            "1 2 3 4 5\n"
          ]
        }
      ]
    },
    {
      "cell_type": "markdown",
      "source": [
        "Write a code to get the input in the given format and print the output in the given format\n",
        "\n",
        "Input Description:\n",
        "First-line indicates two integers separated by space. Second-line indicates two integers separated by space. Third-line indicates two integers separated by space.\n",
        "\n",
        "Output Description:\n",
        "Print the input in the same format.\n",
        "\n",
        "Sample Input :\n",
        "2 4\n",
        "2 4\n",
        "2 4\n",
        "Sample Output :\n",
        "2 4\n",
        "2 4\n",
        "2 4"
      ],
      "metadata": {
        "id": "wmbM2OI71nAB"
      }
    },
    {
      "cell_type": "code",
      "source": [
        "userinput1 =[int(num) for num in input().split(\" \", 1)]\n",
        "userinput2 =[int(num) for num in input().split(\" \", 1)]\n",
        "userinput3 =[int(num) for num in input().split(\" \", 1)]\n",
        "print(*userinput1)\n",
        "print(*userinput2)\n",
        "print(*userinput3)"
      ],
      "metadata": {
        "id": "HyY_6Pq_1l14"
      },
      "execution_count": null,
      "outputs": []
    },
    {
      "cell_type": "markdown",
      "source": [
        "Write a code to get the input in the given format and print the output in the given format\n",
        "\n",
        "Input Description:\n",
        "Three integers are given in line by line.\n",
        "\n",
        "Output Description:\n",
        "Print the integers in a single line separate by space.\n",
        "\n",
        "Sample Input :\n",
        "2\n",
        "4\n",
        "5\n",
        "Sample Output :\n",
        "2 4 5"
      ],
      "metadata": {
        "id": "5Vy6lN70AR7V"
      }
    },
    {
      "cell_type": "code",
      "source": [
        "a = int(input())\n",
        "b = int(input())\n",
        "c = int(input())\n",
        "print(a ,b ,c)"
      ],
      "metadata": {
        "id": "ErzMBuGJBWmB"
      },
      "execution_count": null,
      "outputs": []
    },
    {
      "cell_type": "markdown",
      "source": [
        "Write a code to get the input in the given format and print the output in the given format\n",
        "\n",
        "Input Description:\n",
        "First-line indicates two integers separated by space. Second-line indicates three integers separated by space. Third-line indicates three integers separated by space\n",
        "\n",
        "Output Description:\n",
        "Print the input in the same format.\n",
        "\n",
        "Sample Input :\n",
        "2 5\n",
        "2 5 6\n",
        "2 4 5\n",
        "Sample Output :\n",
        "2 5\n",
        "2 5 6\n",
        "2 4 5"
      ],
      "metadata": {
        "id": "B7uTRezkB5yB"
      }
    },
    {
      "cell_type": "code",
      "source": [
        "a = map(int,input().split())\n",
        "b = map(int,input().split())\n",
        "c = map(int,input().split())\n",
        "print(*a)\n",
        "print(*b)\n",
        "print(*c)"
      ],
      "metadata": {
        "colab": {
          "base_uri": "https://localhost:8080/"
        },
        "id": "lE8yk76NB_qt",
        "outputId": "663eef19-6c0d-43cc-b0bb-387a58d4a94f"
      },
      "execution_count": 1,
      "outputs": [
        {
          "output_type": "stream",
          "name": "stdout",
          "text": [
            "2 5\n",
            "2 5 6\n",
            "2 4 5\n",
            "2 5\n",
            "2 5 6\n",
            "2 4 5\n"
          ]
        }
      ]
    },
    {
      "cell_type": "markdown",
      "source": [
        "Write a code to get the input in the given format and print the output in the given format\n",
        "\n",
        "Input Description:\n",
        "A single line contains a string.\n",
        "\n",
        "Output Description:\n",
        "Print the characters in a string separated by space.\n",
        "\n",
        "Sample Input :\n",
        "guvi\n",
        "Sample Output :\n",
        "g u v i"
      ],
      "metadata": {
        "id": "ig44xoaHC10s"
      }
    },
    {
      "cell_type": "code",
      "source": [
        "user = input()\n",
        "b = ' '.join(user)\n",
        "print(b)"
      ],
      "metadata": {
        "id": "x8x4WNsXnYXe",
        "colab": {
          "base_uri": "https://localhost:8080/"
        },
        "outputId": "13070b87-0701-40c3-9e45-cb3b9c994431"
      },
      "execution_count": 5,
      "outputs": [
        {
          "output_type": "stream",
          "name": "stdout",
          "text": [
            "ashmitha\n",
            "a s h m i t h a\n"
          ]
        }
      ]
    },
    {
      "cell_type": "markdown",
      "source": [
        "You are given an array. Your task is to sort the array in given manner. Print the elements in increasing order of the frequency. If frequency is same print smaller one first.\n",
        "\n",
        "Input Description:\n",
        "You are given a number ‘n’. Then in next line n space separated numbers.\n",
        "\n",
        "Output Description:\n",
        "Print the array as mentioned\n",
        "\n",
        "Sample Input :\n",
        "4\n",
        "1 1 3 2\n",
        "Sample Output :\n",
        "2 3 1"
      ],
      "metadata": {
        "id": "AlqJG52enXJV"
      }
    },
    {
      "cell_type": "code",
      "source": [
        "from collections import Counter\n",
        "h = int(input())\n",
        "l = list(map(int,input().split()))\n",
        "l.sort(reverse = True)"
      ],
      "metadata": {
        "colab": {
          "base_uri": "https://localhost:8080/"
        },
        "id": "CTZ29Balndbc",
        "outputId": "a0d8b68e-6cd8-49d2-c236-edf64cd3e88c"
      },
      "execution_count": null,
      "outputs": [
        {
          "name": "stdout",
          "output_type": "stream",
          "text": [
            "4\n",
            "1 1 3 2\n"
          ]
        }
      ]
    },
    {
      "cell_type": "markdown",
      "source": [
        "Write a code to get the input in the given format and print the output in the given format.\n",
        "\n",
        "Input Description:\n",
        "A single line contains three float values separated by space.\n",
        "\n",
        "Output Description:\n",
        "Print the float value separated by line.\n",
        "\n",
        "Sample Input :\n",
        "2.3 4.5 7.8\n",
        "Sample Output :\n",
        "2.3\n",
        "4.5\n",
        "7.8"
      ],
      "metadata": {
        "id": "eiB7Vfr5RKH7"
      }
    },
    {
      "cell_type": "code",
      "source": [
        "a = map(float,input().split())\n",
        "for i in a:\n",
        "    print(i)"
      ],
      "metadata": {
        "colab": {
          "base_uri": "https://localhost:8080/"
        },
        "id": "Wl-0OlcrRH3-",
        "outputId": "29c800a5-dced-4f20-8355-fcfda9de62aa"
      },
      "execution_count": 6,
      "outputs": [
        {
          "output_type": "stream",
          "name": "stdout",
          "text": [
            "2.3\n",
            "2.3\n"
          ]
        }
      ]
    },
    {
      "cell_type": "markdown",
      "source": [
        "Write a code to get the input in the given format and print the output in the given format.\n",
        "Input Description: A single line contains a string.\n",
        "\n",
        "Output Description: Print the characters in a string separated by line.\n",
        "\n",
        "Sample Input : guvigeek Sample Output : g u v i g e e k"
      ],
      "metadata": {
        "id": "RqM2rw2yRYme"
      }
    },
    {
      "cell_type": "code",
      "source": [
        "inp = input()\n",
        "for i in inp:\n",
        "  print(i)"
      ],
      "metadata": {
        "id": "CWJ-GMivRSel"
      },
      "execution_count": null,
      "outputs": []
    },
    {
      "cell_type": "markdown",
      "source": [
        "Write a code to get the input in the given format and print the output in the given format.\n",
        "Input Description: A single line contains a string.\n",
        "\n",
        "Output Description: Print the characters in a string separated by comma.\n",
        "\n",
        "Sample Input : guvi Sample Output : g,u,v,i"
      ],
      "metadata": {
        "id": "fEohk61NRfuf"
      }
    },
    {
      "cell_type": "code",
      "source": [
        "inp = input()\n",
        "print(','.join(inp))"
      ],
      "metadata": {
        "id": "McOai5ykRccD"
      },
      "execution_count": null,
      "outputs": []
    },
    {
      "cell_type": "markdown",
      "source": [
        "You are given a number A in Kilometers. Convert this into B: Meters and C: Centi-Metres.\n",
        "\n",
        "Input Description:\n",
        "A number \"A\" representing some distance in kilometer is provided to you as the input.\n",
        "\n",
        "Output Description:\n",
        "Convert and print this value in meters and centimeters.\n",
        "\n",
        "Sample Input :\n",
        "2\n",
        "Sample Output :\n",
        "2000\n",
        "200000"
      ],
      "metadata": {
        "id": "QINJ8prdRqeB"
      }
    },
    {
      "cell_type": "code",
      "source": [
        "akm = int(input('Enter kms: '))\n",
        "inp = akm*1000\n",
        "mip = akm*100000\n",
        "print(inp, mip, sep ='\\n')"
      ],
      "metadata": {
        "id": "9CucyEtcRp8f"
      },
      "execution_count": null,
      "outputs": []
    },
    {
      "cell_type": "markdown",
      "source": [
        "You are given three numbers A, B & C. Print the largest amongst these three numbers.\n",
        "\n",
        "Input Description:\n",
        "Three numbers are provided to you.\n",
        "\n",
        "Output Description:\n",
        "Find and print the largest among the three\n",
        "\n",
        "Sample Input :\n",
        "1\n",
        "2\n",
        "3\n",
        "Sample Output :\n",
        "3"
      ],
      "metadata": {
        "id": "9pwFyvsdRvN1"
      }
    },
    {
      "cell_type": "code",
      "source": [
        "a,b,c = [int(i) for i in input().split()]\n",
        "max(a,b,c)"
      ],
      "metadata": {
        "id": "QRGEOa0iRu6o"
      },
      "execution_count": null,
      "outputs": []
    },
    {
      "cell_type": "markdown",
      "source": [
        "You are provided with the radius of a circle \"A\". Find the length of its circumference.\n",
        "\n",
        "Note: In case the output is coming in decimal, roundoff to 2nd decimal place. In case the input is a negative number, print \"Error\".\n",
        "\n",
        "Input Description:\n",
        "The Radius of a circle is provided as the input of the program.\n",
        "\n",
        "Output Description:\n",
        "Calculate and print the Circumference of the circle corresponding to the input radius up to two decimal places.\n",
        "\n",
        "Sample Input :\n",
        "2\n",
        "Sample Output :\n",
        "12.57"
      ],
      "metadata": {
        "id": "aDbP6x94R2k0"
      }
    },
    {
      "cell_type": "code",
      "source": [
        "radius = int(input('Enter the radius: '))\n",
        "circum = 2*22/7*radius\n",
        "if radius <0: print('Error')\n",
        "else: print(round(circum,2))"
      ],
      "metadata": {
        "id": "frK43swCR2Rh"
      },
      "execution_count": null,
      "outputs": []
    },
    {
      "cell_type": "markdown",
      "source": [
        "You are given Two Numbers, A and B. If C = A + B. Find C.\n",
        "Note: Round off the output to a single decimal place.\n",
        "\n",
        "Input Description: You are provided with two numbers A and B.\n",
        "\n",
        "Output Description: Find the sum of the two numbers (A + B)\n",
        "\n",
        "Sample Input : 1 1 Sample Output : 2"
      ],
      "metadata": {
        "id": "taMjpEcjR-PZ"
      }
    },
    {
      "cell_type": "code",
      "source": [
        "a,b = [float(i) for i in input().split()]\n",
        "print(round((a+b),1))"
      ],
      "metadata": {
        "id": "zOjQzdFTR_b_"
      },
      "execution_count": null,
      "outputs": []
    },
    {
      "cell_type": "markdown",
      "source": [
        "The area of an equilateral triangle is ¼(√3a2) where \"a\" represents a side of the triangle. You are provided with the side \"a\". Find the area of the equilateral triangle.\n",
        "Input Description: The side of an equilateral triangle is provided as the input.\n",
        "\n",
        "Output Description: Find the area of the equilateral triangle and print the answer up to 2 decimal places after rounding off.\n",
        "\n",
        "Sample Input : 20 Sample Output : 173.21"
      ],
      "metadata": {
        "id": "_ljYJZO-SJ4w"
      }
    },
    {
      "cell_type": "code",
      "source": [
        "side = int(input())\n",
        "area = (3**0.5)*(side*side)/4\n",
        "print(round(area, 2))"
      ],
      "metadata": {
        "id": "S-s1F7qcSLCN"
      },
      "execution_count": null,
      "outputs": []
    },
    {
      "cell_type": "markdown",
      "source": [
        "You are given with a number A i.e. the temperature in Celcius. Write a program to convert this into Fahrenheit.\n",
        "Note: In case of decimal values, round-off to two decimal places.\n",
        "\n",
        "Input Description: A number is provided in Celcius as the input of the program.\n",
        "\n",
        "Output Description: The output shall be the temperature converted into Fahrenheit corresponding to the input value print up to two decimal places and round off if required.\n",
        "\n",
        "Sample Input : 12 Sample Output : 53.60"
      ],
      "metadata": {
        "id": "f6r92yZwSM-U"
      }
    },
    {
      "cell_type": "code",
      "source": [
        "celcius = float(input())\n",
        "result = celcius*(9/5)+32\n",
        "print('%.2f'%result)"
      ],
      "metadata": {
        "id": "feEMFpmwSNmU"
      },
      "execution_count": null,
      "outputs": []
    },
    {
      "cell_type": "markdown",
      "source": [
        "You are given with Principle amount($), Interest Rate(%) and Time (years) in that order. Find Simple Interest.\n",
        "Print the output up to two decimal places (Round-off if necessary).\n",
        "\n",
        "(S.I. = PTR/100)\n",
        "\n",
        "Input Description: Three values are given to you as the input. these values correspond to Principle amount, Interest Rate and Time in that particular order.\n",
        "\n",
        "Output Description: Find the Simple interest and print it up to two decimal places. Round off if required.\n",
        "\n",
        "Sample Input : 1000 2 5 Sample Output : 100.00"
      ],
      "metadata": {
        "id": "cY0F33tKSVlS"
      }
    },
    {
      "cell_type": "code",
      "source": [
        "p,i,t = [int(i) for i in input().split()]\n",
        "simpleinterest = p*i*t / 100\n",
        "print(\"%.2f\" % simpleinterest)"
      ],
      "metadata": {
        "id": "sE8NrultSVSm"
      },
      "execution_count": null,
      "outputs": []
    },
    {
      "cell_type": "markdown",
      "source": [
        "You are given A = Length of a rectangle & B = breadth of a rectangle. Find its area “C”.\n",
        "(A and B are natural numbers)\n",
        "\n",
        "Input Description: The inputs are two natural numbers representing the length and the breadth of a rectangle.\n",
        "\n",
        "Output Description: Find the area of the rectangle formed by the provided input. Round off the answer to the first decimal place if required.\n",
        "\n",
        "Sample Input : 2 3 Sample Output : 6"
      ],
      "metadata": {
        "id": "ElKU7hR4Sd54"
      }
    },
    {
      "cell_type": "code",
      "source": [
        "l,b = [int(i) for i in input().split()]\n",
        "print(round((l*b),1)) "
      ],
      "metadata": {
        "id": "0J5P8Jl-SdAT"
      },
      "execution_count": null,
      "outputs": []
    },
    {
      "cell_type": "markdown",
      "source": [
        "\n",
        "You are given with a number \"N\", find its cube.\n",
        "Input Description: A positive integer is provided.\n",
        "\n",
        "Output Description: Find the cube of the number.\n",
        "\n",
        "Sample Input : 2 Sample Output : 8"
      ],
      "metadata": {
        "id": "LNdXN4gYScxC"
      }
    },
    {
      "cell_type": "code",
      "source": [
        "b = lambda a : a**3\n",
        "print(b(int(input())))"
      ],
      "metadata": {
        "id": "kRIgqNY7SrpS"
      },
      "execution_count": null,
      "outputs": []
    },
    {
      "cell_type": "markdown",
      "source": [
        "You will be provided with a number. Print the number of days in the month corresponding to that number.\n",
        "Note: In case the input is February, print 28 days. If the Input is not in valid range print \"Error\".\n",
        "\n",
        "Input Description: The input is in the form of a number.\n",
        "\n",
        "Output Description: Find the days in the month corresponding to the input number. Print Error if the input is not in a valid range.\n",
        "\n",
        "Sample Input : 8 Sample Output : 31"
      ],
      "metadata": {
        "id": "5RyQ_BOeSv4F"
      }
    },
    {
      "cell_type": "code",
      "source": [
        "a = int(input())\n",
        "\n",
        "days31 = [1,3,5,7,8,10,12]\n",
        "days28 = [2]\n",
        "days30 = [4,6,9,11]\n",
        "\n",
        "if a == 0 or a > 12:\n",
        "    print('Error')\n",
        "else:\n",
        "  if a in days31: print(31)\n",
        "  elif a in days28:print(28)\n",
        "  else:print(30)"
      ],
      "metadata": {
        "id": "PebaN-stSu9x"
      },
      "execution_count": null,
      "outputs": []
    },
    {
      "cell_type": "code",
      "source": [
        "A=int(input(\"enter a number of month: \"))\n",
        "if A==1:print(31)\n",
        "elif A==2: print(28)\n",
        "elif A==3:print(31)\n",
        "elif A==4:print(30)\n",
        "elif A==5:print(31)\n",
        "elif A==6:print(30)\n",
        "elif A==7:print(31)\n",
        "elif A==8:print(31)\n",
        "elif A==9:print(30)\n",
        "elif A==10:print(31)\n",
        "elif A==11:print(30)\n",
        "elif A==12:print(31)\n",
        "else:\n",
        "   print(\"Error\")"
      ],
      "metadata": {
        "id": "yqwDvHceS6YJ"
      },
      "execution_count": null,
      "outputs": []
    },
    {
      "cell_type": "markdown",
      "source": [
        "Let \"A\" be a year, write a program to check whether this year is a leap year or not.\n",
        "Print \"Y\" if its a leap year and \"N\" if its a common year.\n",
        "\n",
        "Input Description: A Year is the input in the form of a positive integer.\n",
        "\n",
        "Output Description: Print \"Y\" if its a leap year and \"N\" if its a common year.\n",
        "\n",
        "Sample Input : 2020 Sample Output : Y"
      ],
      "metadata": {
        "id": "fkmcD0_gS2WW"
      }
    },
    {
      "cell_type": "code",
      "source": [
        "a = int(input('Enter a year to check if it is a leap year: '))\n",
        "if a % 4 == 0 and a % 400 == 0: print('Y')\n",
        "elif a % 4 == 0 and a % 100 != 0: print('Y')\n",
        "else: print('N')"
      ],
      "metadata": {
        "id": "n2AOlSqPS1sP"
      },
      "execution_count": null,
      "outputs": []
    },
    {
      "cell_type": "markdown",
      "source": [
        "You are provided with two numbers. Find and print the smaller number.\n",
        "Input Description: You are provided with two numbers as input.\n",
        "\n",
        "Output Description: Print the small number out of the two numbers.\n",
        "\n",
        "Sample Input : 23 1 Sample Output : 1"
      ],
      "metadata": {
        "id": "3MA0VC_zTDnh"
      }
    },
    {
      "cell_type": "code",
      "source": [
        "a, b = [int(x) for x in input().split()]\n",
        "print(min(a,b))"
      ],
      "metadata": {
        "id": "MpxIx-MYTEMN"
      },
      "execution_count": null,
      "outputs": []
    },
    {
      "cell_type": "markdown",
      "source": [
        "You are given the coefficients of a quadratic equation in order A, B & C.\n",
        "Where A is the coefficient of X2, B is the coefficient of X and C is the constant term in the most simplified form.\n",
        "\n",
        "Example: For X2 + 5X + 6 = 0, you are given the input as: 1 5 6.\n",
        "\n",
        "Write a program to find all of the roots of the quadratic.\n",
        "\n",
        "Note: The output should be up to 2nd decimal place (round off if needed) and in case of a recurring decimal use braces i.e. for eg: 0.33333..... => 0.33.\n",
        "\n",
        "Note: Use Shri Dharacharya's Method to solve i.e. X = {-b + √(b² - 4ac) } / 2a & {-b-√(b² -4ac)} / 2a\n",
        "\n",
        "Input Description: Three numbers corresponding to the coefficients of x(squared), x and constant are given as an input in that particular order Output Description: Print the two values of X after rounding off to 2 decimal places if required.\n",
        "\n",
        "Sample Input : 1 5 6 Sample Output : -2.00 -3.00"
      ],
      "metadata": {
        "id": "p84OKrjATNmY"
      }
    },
    {
      "cell_type": "code",
      "source": [
        "import math\n",
        "a, b, c = map(int, input().split())\n",
        "m = (-b+(math.sqrt((b**2)-(4*a*c))))/(2*a)\n",
        "n = (-b-(math.sqrt((b**2)-(4*a*c))))/(2*a)\n",
        "print(f'{m:.2f}')\n",
        "print(f'{n:.2f}')"
      ],
      "metadata": {
        "id": "xejDUNR5TOI3"
      },
      "execution_count": null,
      "outputs": []
    }
  ]
}